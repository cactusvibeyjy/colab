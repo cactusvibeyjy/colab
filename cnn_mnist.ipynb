{
  "nbformat": 4,
  "nbformat_minor": 0,
  "metadata": {
    "colab": {
      "provenance": [],
      "collapsed_sections": [],
      "authorship_tag": "ABX9TyMimHtJG7FWesfvl81jNADb",
      "include_colab_link": true
    },
    "kernelspec": {
      "name": "python3",
      "display_name": "Python 3"
    },
    "language_info": {
      "name": "python"
    },
    "accelerator": "GPU",
    "gpuClass": "standard"
  },
  "cells": [
    {
      "cell_type": "markdown",
      "metadata": {
        "id": "view-in-github",
        "colab_type": "text"
      },
      "source": [
        "<a href=\"https://colab.research.google.com/github/cactusvibeyjy/colab/blob/main/cnn_mnist.ipynb\" target=\"_parent\"><img src=\"https://colab.research.google.com/assets/colab-badge.svg\" alt=\"Open In Colab\"/></a>"
      ]
    },
    {
      "cell_type": "code",
      "execution_count": null,
      "metadata": {
        "id": "vCcwIyxwHp7N"
      },
      "outputs": [],
      "source": [
        "from keras.datasets import mnist\n",
        "import tensorflow as tf\n",
        "import numpy as np\n",
        "from tensorflow.keras.models import Sequential\n",
        "from tensorflow.keras.layers import Conv2D, MaxPool2D, Dense, Dropout, Flatten\n",
        "from tensorflow.keras.optimizers import Adam"
      ]
    },
    {
      "cell_type": "code",
      "source": [
        "(x_train, t_train), (x_test, t_test)=mnist.load_data()"
      ],
      "metadata": {
        "id": "BJjqn9_qIRoZ"
      },
      "execution_count": null,
      "outputs": []
    },
    {
      "cell_type": "code",
      "source": [
        "x_train=x_train.reshape(-1,28,28,1)\n",
        "x_test=x_test.reshape(-1,28,28,1) #데이터의 모양 -1은 원래의 데이터 개수\n",
        "print(x_train.shape, x_test.shape)\n",
        "print(t_train.shape, t_test.shape)"
      ],
      "metadata": {
        "colab": {
          "base_uri": "https://localhost:8080/"
        },
        "id": "NCg5IJIEITQj",
        "outputId": "631b66a8-2ab8-48ea-c3f6-63b3bdedb478"
      },
      "execution_count": null,
      "outputs": [
        {
          "output_type": "stream",
          "name": "stdout",
          "text": [
            "(60000, 28, 28, 1) (10000, 28, 28, 1)\n",
            "(60000,) (10000,)\n"
          ]
        }
      ]
    },
    {
      "cell_type": "code",
      "source": [
        "x_train=x_train.astype(np.float32)/255.0\n",
        "x_test=x_test.astype(np.float32)/255.0"
      ],
      "metadata": {
        "id": "EFKr3RmbIYGK"
      },
      "execution_count": null,
      "outputs": []
    },
    {
      "cell_type": "code",
      "source": [
        "cnn=Sequential()\n",
        "cnn.add(Conv2D(input_shape=(28,28,1), kernel_size=(3,3), filters=32, activation='relu'))\n",
        "cnn.add(Conv2D(kernel_size=(3,3), filters=64, activation='relu'))\n",
        "cnn.add(MaxPool2D(pool_size=(2,2)))\n",
        "cnn.add(Dropout(0.25))\n",
        "\n",
        "cnn.add(Flatten())\n",
        "cnn.add(Dense(128, activation='relu'))\n",
        "cnn.add(Dropout(0.5))\n",
        "cnn.add(Dense(10, activation='softmax'))"
      ],
      "metadata": {
        "id": "lRQoQjw7IY_K"
      },
      "execution_count": null,
      "outputs": []
    },
    {
      "cell_type": "code",
      "source": [
        "cnn.compile(loss='sparse_categorical_crossentropy', optimizer=Adam(), metrics=['accuracy'])\n",
        "cnn.summary()"
      ],
      "metadata": {
        "colab": {
          "base_uri": "https://localhost:8080/"
        },
        "id": "3hT2ZY4FIc5q",
        "outputId": "1be67923-ea62-4419-b9c9-cb08dcf74742"
      },
      "execution_count": null,
      "outputs": [
        {
          "output_type": "stream",
          "name": "stdout",
          "text": [
            "Model: \"sequential_1\"\n",
            "_________________________________________________________________\n",
            " Layer (type)                Output Shape              Param #   \n",
            "=================================================================\n",
            " conv2d_2 (Conv2D)           (None, 26, 26, 32)        320       \n",
            "                                                                 \n",
            " conv2d_3 (Conv2D)           (None, 24, 24, 64)        18496     \n",
            "                                                                 \n",
            " max_pooling2d_1 (MaxPooling  (None, 12, 12, 64)       0         \n",
            " 2D)                                                             \n",
            "                                                                 \n",
            " dropout_2 (Dropout)         (None, 12, 12, 64)        0         \n",
            "                                                                 \n",
            " flatten_1 (Flatten)         (None, 9216)              0         \n",
            "                                                                 \n",
            " dense_2 (Dense)             (None, 128)               1179776   \n",
            "                                                                 \n",
            " dropout_3 (Dropout)         (None, 128)               0         \n",
            "                                                                 \n",
            " dense_3 (Dense)             (None, 10)                1290      \n",
            "                                                                 \n",
            "=================================================================\n",
            "Total params: 1,199,882\n",
            "Trainable params: 1,199,882\n",
            "Non-trainable params: 0\n",
            "_________________________________________________________________\n"
          ]
        }
      ]
    },
    {
      "cell_type": "code",
      "source": [
        "hist=cnn.fit(x_train, t_train, batch_size=128, epochs=30, validation_data=(x_test, t_test))"
      ],
      "metadata": {
        "colab": {
          "base_uri": "https://localhost:8080/"
        },
        "id": "MTxUSdaeIghr",
        "outputId": "c0024c37-c1d8-4635-9556-15781ab689e4"
      },
      "execution_count": null,
      "outputs": [
        {
          "output_type": "stream",
          "name": "stdout",
          "text": [
            "Epoch 1/30\n",
            "469/469 [==============================] - 13s 10ms/step - loss: 0.2504 - accuracy: 0.9241 - val_loss: 0.0500 - val_accuracy: 0.9844\n",
            "Epoch 2/30\n",
            "469/469 [==============================] - 4s 9ms/step - loss: 0.0861 - accuracy: 0.9745 - val_loss: 0.0363 - val_accuracy: 0.9880\n",
            "Epoch 3/30\n",
            "469/469 [==============================] - 4s 9ms/step - loss: 0.0645 - accuracy: 0.9809 - val_loss: 0.0307 - val_accuracy: 0.9896\n",
            "Epoch 4/30\n",
            "469/469 [==============================] - 4s 9ms/step - loss: 0.0556 - accuracy: 0.9832 - val_loss: 0.0325 - val_accuracy: 0.9899\n",
            "Epoch 5/30\n",
            "469/469 [==============================] - 4s 9ms/step - loss: 0.0446 - accuracy: 0.9863 - val_loss: 0.0283 - val_accuracy: 0.9913\n",
            "Epoch 6/30\n",
            "469/469 [==============================] - 4s 9ms/step - loss: 0.0404 - accuracy: 0.9875 - val_loss: 0.0328 - val_accuracy: 0.9902\n",
            "Epoch 7/30\n",
            "469/469 [==============================] - 4s 10ms/step - loss: 0.0350 - accuracy: 0.9888 - val_loss: 0.0289 - val_accuracy: 0.9908\n",
            "Epoch 8/30\n",
            "469/469 [==============================] - 4s 9ms/step - loss: 0.0316 - accuracy: 0.9898 - val_loss: 0.0328 - val_accuracy: 0.9905\n",
            "Epoch 9/30\n",
            "469/469 [==============================] - 4s 9ms/step - loss: 0.0300 - accuracy: 0.9903 - val_loss: 0.0312 - val_accuracy: 0.9907\n",
            "Epoch 10/30\n",
            "469/469 [==============================] - 4s 9ms/step - loss: 0.0273 - accuracy: 0.9913 - val_loss: 0.0284 - val_accuracy: 0.9922\n",
            "Epoch 11/30\n",
            "469/469 [==============================] - 4s 9ms/step - loss: 0.0273 - accuracy: 0.9913 - val_loss: 0.0260 - val_accuracy: 0.9926\n",
            "Epoch 12/30\n",
            "469/469 [==============================] - 4s 9ms/step - loss: 0.0229 - accuracy: 0.9925 - val_loss: 0.0289 - val_accuracy: 0.9914\n",
            "Epoch 13/30\n",
            "469/469 [==============================] - 4s 9ms/step - loss: 0.0219 - accuracy: 0.9925 - val_loss: 0.0319 - val_accuracy: 0.9923\n",
            "Epoch 14/30\n",
            "469/469 [==============================] - 4s 9ms/step - loss: 0.0192 - accuracy: 0.9934 - val_loss: 0.0310 - val_accuracy: 0.9921\n",
            "Epoch 15/30\n",
            "469/469 [==============================] - 4s 9ms/step - loss: 0.0193 - accuracy: 0.9934 - val_loss: 0.0308 - val_accuracy: 0.9921\n",
            "Epoch 16/30\n",
            "469/469 [==============================] - 4s 9ms/step - loss: 0.0174 - accuracy: 0.9944 - val_loss: 0.0308 - val_accuracy: 0.9928\n",
            "Epoch 17/30\n",
            "469/469 [==============================] - 4s 9ms/step - loss: 0.0171 - accuracy: 0.9944 - val_loss: 0.0299 - val_accuracy: 0.9926\n",
            "Epoch 18/30\n",
            "469/469 [==============================] - 4s 9ms/step - loss: 0.0168 - accuracy: 0.9948 - val_loss: 0.0340 - val_accuracy: 0.9910\n",
            "Epoch 19/30\n",
            "469/469 [==============================] - 4s 9ms/step - loss: 0.0135 - accuracy: 0.9955 - val_loss: 0.0328 - val_accuracy: 0.9927\n",
            "Epoch 20/30\n",
            "469/469 [==============================] - 4s 9ms/step - loss: 0.0145 - accuracy: 0.9948 - val_loss: 0.0321 - val_accuracy: 0.9921\n",
            "Epoch 21/30\n",
            "469/469 [==============================] - 4s 9ms/step - loss: 0.0147 - accuracy: 0.9954 - val_loss: 0.0291 - val_accuracy: 0.9932\n",
            "Epoch 22/30\n",
            "469/469 [==============================] - 4s 9ms/step - loss: 0.0141 - accuracy: 0.9951 - val_loss: 0.0368 - val_accuracy: 0.9908\n",
            "Epoch 23/30\n",
            "469/469 [==============================] - 4s 9ms/step - loss: 0.0137 - accuracy: 0.9956 - val_loss: 0.0350 - val_accuracy: 0.9928\n",
            "Epoch 24/30\n",
            "469/469 [==============================] - 4s 9ms/step - loss: 0.0119 - accuracy: 0.9960 - val_loss: 0.0357 - val_accuracy: 0.9922\n",
            "Epoch 25/30\n",
            "469/469 [==============================] - 4s 9ms/step - loss: 0.0115 - accuracy: 0.9960 - val_loss: 0.0379 - val_accuracy: 0.9930\n",
            "Epoch 26/30\n",
            "469/469 [==============================] - 4s 9ms/step - loss: 0.0120 - accuracy: 0.9956 - val_loss: 0.0385 - val_accuracy: 0.9921\n",
            "Epoch 27/30\n",
            "469/469 [==============================] - 4s 9ms/step - loss: 0.0122 - accuracy: 0.9958 - val_loss: 0.0341 - val_accuracy: 0.9931\n",
            "Epoch 28/30\n",
            "469/469 [==============================] - 4s 9ms/step - loss: 0.0105 - accuracy: 0.9962 - val_loss: 0.0347 - val_accuracy: 0.9935\n",
            "Epoch 29/30\n",
            "469/469 [==============================] - 4s 9ms/step - loss: 0.0106 - accuracy: 0.9962 - val_loss: 0.0327 - val_accuracy: 0.9925\n",
            "Epoch 30/30\n",
            "469/469 [==============================] - 4s 9ms/step - loss: 0.0101 - accuracy: 0.9966 - val_loss: 0.0346 - val_accuracy: 0.9930\n"
          ]
        }
      ]
    },
    {
      "cell_type": "code",
      "source": [
        "cnn.evaluate(x_test, t_test)"
      ],
      "metadata": {
        "colab": {
          "base_uri": "https://localhost:8080/"
        },
        "id": "JDOb_hN0M_n4",
        "outputId": "b5e923f9-d93e-448c-9749-7f5418508e8b"
      },
      "execution_count": null,
      "outputs": [
        {
          "output_type": "stream",
          "name": "stdout",
          "text": [
            "313/313 [==============================] - 1s 3ms/step - loss: 0.0346 - accuracy: 0.9930\n"
          ]
        },
        {
          "output_type": "execute_result",
          "data": {
            "text/plain": [
              "[0.03461837023496628, 0.9929999709129333]"
            ]
          },
          "metadata": {},
          "execution_count": 10
        }
      ]
    },
    {
      "cell_type": "code",
      "source": [],
      "metadata": {
        "id": "DxJjsfPANJTn"
      },
      "execution_count": null,
      "outputs": []
    }
  ]
}