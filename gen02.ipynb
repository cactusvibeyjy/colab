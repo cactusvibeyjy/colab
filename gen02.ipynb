{
  "nbformat": 4,
  "nbformat_minor": 0,
  "metadata": {
    "colab": {
      "provenance": [],
      "authorship_tag": "ABX9TyOLvXSEzI/kViuivtHzQAPn",
      "include_colab_link": true
    },
    "kernelspec": {
      "name": "python3",
      "display_name": "Python 3"
    },
    "language_info": {
      "name": "python"
    },
    "accelerator": "GPU",
    "gpuClass": "standard"
  },
  "cells": [
    {
      "cell_type": "markdown",
      "metadata": {
        "id": "view-in-github",
        "colab_type": "text"
      },
      "source": [
        "<a href=\"https://colab.research.google.com/github/cactusvibeyjy/colab/blob/main/gen02.ipynb\" target=\"_parent\"><img src=\"https://colab.research.google.com/assets/colab-badge.svg\" alt=\"Open In Colab\"/></a>"
      ]
    },
    {
      "cell_type": "code",
      "execution_count": 4,
      "metadata": {
        "id": "mnOhhr7z2fOF"
      },
      "outputs": [],
      "source": [
        "import tensorflow as tf\n",
        "import numpy as np\n",
        "import matplotlib.pyplot as plt\n",
        "import os\n",
        "from tensorflow.keras.datasets import cifar10\n",
        "from tensorflow.keras.models import Sequential\n",
        "from tensorflow.keras.layers import Conv2D, MaxPool2D, Flatten, Dense, Dropout\n",
        "from tensorflow.keras.optimizers import Adam, RMSprop\n",
        "from tensorflow.keras.callbacks import ModelCheckpoint, EarlyStopping\n",
        "from tensorflow.keras.preprocessing import image\n",
        "from tensorflow.keras.preprocessing.image import load_img\n",
        "from tensorflow.keras.preprocessing.image import img_to_array\n",
        "from tensorflow.keras.preprocessing.image import ImageDataGenerator"
      ]
    },
    {
      "cell_type": "code",
      "source": [
        "gen=ImageDataGenerator(rotation_range=15, width_shift_range=0.2, shear_range=0.2, height_shift_range=0.2, horizontal_flip=True)"
      ],
      "metadata": {
        "id": "EuR7AiYD3Qmc"
      },
      "execution_count": 5,
      "outputs": []
    },
    {
      "cell_type": "code",
      "source": [
        "(x_train, y_train), (x_test, y_test) =cifar10.load_data()\n",
        "x_train = x_train.astype(np.float32)/255.0\n",
        "x_test=x_test.astype(np.float32) /255.0"
      ],
      "metadata": {
        "id": "PPZgTMRy6sTd"
      },
      "execution_count": 6,
      "outputs": []
    },
    {
      "cell_type": "code",
      "source": [
        "augment_ratio =1.5 #전체 데이터의 150%\n",
        "augment_size = int(augment_ratio * x_train.shape[0])\n",
        "print(augment_size)\n",
        "#전체 x_train개수의 150% 비율만큼\n",
        "randidx = np.random.randint(x_train.shape[0], size=augment_size)\n",
        "#임의로 선택된 데이터는 원본데이터를 참조하기 때문에\n",
        "#원본데이터에 영향을 줄 수 있음. 그래서 copy() 함수를 통해 안전하게 복사본 만듬\n",
        "x_augmented = x_train[randidx].copy()\n",
        "y_augmented = y_train[randidx].copy()\n",
        "\n",
        "print(x_augmented.shape, y_augmented.shape)\n",
        "#이미지 보강 실행\n",
        "x_augmented, y_augmented = gen.flow(x_augmented, y_augmented, batch_size=augment_size, shuffle=False).next()\n",
        "\n",
        "print(x_augmented.shape, y_augmented.shape)"
      ],
      "metadata": {
        "colab": {
          "base_uri": "https://localhost:8080/"
        },
        "id": "HmPd13sC7GYV",
        "outputId": "4c0b32f7-7331-4625-edde-d61589afdb2d"
      },
      "execution_count": 7,
      "outputs": [
        {
          "output_type": "stream",
          "name": "stdout",
          "text": [
            "75000\n",
            "(75000, 32, 32, 3) (75000, 1)\n",
            "(75000, 32, 32, 3) (75000, 1)\n"
          ]
        }
      ]
    },
    {
      "cell_type": "code",
      "source": [
        "print(x_train.shape)"
      ],
      "metadata": {
        "colab": {
          "base_uri": "https://localhost:8080/"
        },
        "id": "oU-J6QmY-u29",
        "outputId": "b318c8d7-37b5-408b-a26c-ae05fce511f4"
      },
      "execution_count": 8,
      "outputs": [
        {
          "output_type": "stream",
          "name": "stdout",
          "text": [
            "(50000, 32, 32, 3)\n"
          ]
        }
      ]
    },
    {
      "cell_type": "code",
      "source": [
        "#x_train, y_train에 보강된 데이터 추가\n",
        "x_train = np.concatenate((x_train, x_augmented))\n",
        "y_train = np.concatenate((y_train, y_augmented))\n",
        "\n",
        "print(x_augmented.shape, y_augmented.shape)"
      ],
      "metadata": {
        "colab": {
          "base_uri": "https://localhost:8080/"
        },
        "id": "hcxqBoxz8QwU",
        "outputId": "9a73271e-d32d-4a8c-a4d5-4df69c665e9a"
      },
      "execution_count": 9,
      "outputs": [
        {
          "output_type": "stream",
          "name": "stdout",
          "text": [
            "(75000, 32, 32, 3) (75000, 1)\n"
          ]
        }
      ]
    },
    {
      "cell_type": "code",
      "source": [
        "cnn=Sequential()\n",
        "cnn.add(Conv2D(32,(3,3),input_shape=(32,32,3), padding='same', activation='relu'))\n",
        "cnn.add(Conv2D(32,(3,3),input_shape=(32,32,3), padding='same'))\n",
        "cnn.add(MaxPool2D(pool_size=(2,2)))\n",
        "cnn.add(Dropout(0.25))\n",
        "\n",
        "cnn.add(Conv2D(64,(3,3), padding='same', activation='relu'))\n",
        "cnn.add(Conv2D(64,(3,3), padding='same', activation='relu'))\n",
        "cnn.add(MaxPool2D(pool_size=(2,2)))\n",
        "cnn.add(Dropout(0.25))\n",
        "\n",
        "cnn.add(Conv2D(128,(3,3), padding='same', activation='relu'))\n",
        "cnn.add(MaxPool2D(pool_size=(2,2)))\n",
        "cnn.add(Dropout(0.25))\n",
        "\n",
        "cnn.add(Conv2D(256,(3,3), padding='same', activation='relu'))\n",
        "cnn.add(MaxPool2D(pool_size=(2,2)))\n",
        "cnn.add(Dropout(0.25))\n",
        "\n",
        "cnn.add(Flatten())\n",
        "\n",
        "cnn.add(Dense(128, activation='relu'))\n",
        "cnn.add(Dropout(0.5))\n",
        "cnn.add(Dense(10, activation='softmax'))\n",
        "\n",
        "cnn.summary()"
      ],
      "metadata": {
        "colab": {
          "base_uri": "https://localhost:8080/"
        },
        "id": "JBQtsklK9y2_",
        "outputId": "7492f494-d6de-462f-9772-b9f162c4aeee"
      },
      "execution_count": 15,
      "outputs": [
        {
          "output_type": "stream",
          "name": "stdout",
          "text": [
            "Model: \"sequential_1\"\n",
            "_________________________________________________________________\n",
            " Layer (type)                Output Shape              Param #   \n",
            "=================================================================\n",
            " conv2d_4 (Conv2D)           (None, 32, 32, 32)        896       \n",
            "                                                                 \n",
            " conv2d_5 (Conv2D)           (None, 32, 32, 32)        9248      \n",
            "                                                                 \n",
            " max_pooling2d_2 (MaxPooling  (None, 16, 16, 32)       0         \n",
            " 2D)                                                             \n",
            "                                                                 \n",
            " dropout_3 (Dropout)         (None, 16, 16, 32)        0         \n",
            "                                                                 \n",
            " conv2d_6 (Conv2D)           (None, 16, 16, 64)        18496     \n",
            "                                                                 \n",
            " conv2d_7 (Conv2D)           (None, 16, 16, 64)        36928     \n",
            "                                                                 \n",
            " max_pooling2d_3 (MaxPooling  (None, 8, 8, 64)         0         \n",
            " 2D)                                                             \n",
            "                                                                 \n",
            " dropout_4 (Dropout)         (None, 8, 8, 64)          0         \n",
            "                                                                 \n",
            " conv2d_8 (Conv2D)           (None, 8, 8, 128)         73856     \n",
            "                                                                 \n",
            " max_pooling2d_4 (MaxPooling  (None, 4, 4, 128)        0         \n",
            " 2D)                                                             \n",
            "                                                                 \n",
            " dropout_5 (Dropout)         (None, 4, 4, 128)         0         \n",
            "                                                                 \n",
            " conv2d_9 (Conv2D)           (None, 4, 4, 256)         295168    \n",
            "                                                                 \n",
            " max_pooling2d_5 (MaxPooling  (None, 2, 2, 256)        0         \n",
            " 2D)                                                             \n",
            "                                                                 \n",
            " dropout_6 (Dropout)         (None, 2, 2, 256)         0         \n",
            "                                                                 \n",
            " flatten_1 (Flatten)         (None, 1024)              0         \n",
            "                                                                 \n",
            " dense_2 (Dense)             (None, 128)               131200    \n",
            "                                                                 \n",
            " dropout_7 (Dropout)         (None, 128)               0         \n",
            "                                                                 \n",
            " dense_3 (Dense)             (None, 10)                1290      \n",
            "                                                                 \n",
            "=================================================================\n",
            "Total params: 567,082\n",
            "Trainable params: 567,082\n",
            "Non-trainable params: 0\n",
            "_________________________________________________________________\n"
          ]
        }
      ]
    },
    {
      "cell_type": "code",
      "source": [
        "from datetime import datetime\n",
        "start_time = datetime.now()\n",
        "cnn.compile(loss='sparse_categorical_crossentropy', optimizer=Adam(), metrics=['accuracy'])\n",
        "\n",
        "early_stopping=EarlyStopping(monitor='val_loss', patience=5)\n",
        "model_checkpoint=ModelCheckpoint(filepath=\"/data/bast.h5\", monitor='val_loss', save_base_only=True, verbose=1)\n",
        "\n",
        "hist=cnn.fit(x_train, y_train, batch_size=256, epochs=250, validation_data=(x_test, y_test), callbacks=[early_stopping, model_checkpoint])\n",
        "\n",
        "end_time=datetime.now()"
      ],
      "metadata": {
        "colab": {
          "base_uri": "https://localhost:8080/"
        },
        "id": "MfPN9nmT_UjB",
        "outputId": "3e569f97-55c4-49a9-eee5-8a6c740cdc29"
      },
      "execution_count": 16,
      "outputs": [
        {
          "output_type": "stream",
          "name": "stdout",
          "text": [
            "Epoch 1/250\n",
            "489/489 [==============================] - ETA: 0s - loss: 1.7075 - accuracy: 0.3659\n",
            "Epoch 1: saving model to /data/bast.h5\n",
            "489/489 [==============================] - 13s 24ms/step - loss: 1.7075 - accuracy: 0.3659 - val_loss: 1.3731 - val_accuracy: 0.5010\n",
            "Epoch 2/250\n",
            "487/489 [============================>.] - ETA: 0s - loss: 1.2956 - accuracy: 0.5411\n",
            "Epoch 2: saving model to /data/bast.h5\n",
            "489/489 [==============================] - 11s 22ms/step - loss: 1.2955 - accuracy: 0.5412 - val_loss: 0.9619 - val_accuracy: 0.6558\n",
            "Epoch 3/250\n",
            "487/489 [============================>.] - ETA: 0s - loss: 1.1041 - accuracy: 0.6134\n",
            "Epoch 3: saving model to /data/bast.h5\n",
            "489/489 [==============================] - 11s 22ms/step - loss: 1.1037 - accuracy: 0.6136 - val_loss: 0.8435 - val_accuracy: 0.7019\n",
            "Epoch 4/250\n",
            "487/489 [============================>.] - ETA: 0s - loss: 0.9854 - accuracy: 0.6595\n",
            "Epoch 4: saving model to /data/bast.h5\n",
            "489/489 [==============================] - 11s 23ms/step - loss: 0.9852 - accuracy: 0.6596 - val_loss: 0.7355 - val_accuracy: 0.7435\n",
            "Epoch 5/250\n",
            "489/489 [==============================] - ETA: 0s - loss: 0.9048 - accuracy: 0.6888\n",
            "Epoch 5: saving model to /data/bast.h5\n",
            "489/489 [==============================] - 11s 23ms/step - loss: 0.9048 - accuracy: 0.6888 - val_loss: 0.6700 - val_accuracy: 0.7639\n",
            "Epoch 6/250\n",
            "487/489 [============================>.] - ETA: 0s - loss: 0.8388 - accuracy: 0.7107\n",
            "Epoch 6: saving model to /data/bast.h5\n",
            "489/489 [==============================] - 11s 23ms/step - loss: 0.8388 - accuracy: 0.7107 - val_loss: 0.6440 - val_accuracy: 0.7776\n",
            "Epoch 7/250\n",
            "487/489 [============================>.] - ETA: 0s - loss: 0.7867 - accuracy: 0.7309\n",
            "Epoch 7: saving model to /data/bast.h5\n",
            "489/489 [==============================] - 11s 22ms/step - loss: 0.7864 - accuracy: 0.7309 - val_loss: 0.6066 - val_accuracy: 0.7882\n",
            "Epoch 8/250\n",
            "489/489 [==============================] - ETA: 0s - loss: 0.7538 - accuracy: 0.7430\n",
            "Epoch 8: saving model to /data/bast.h5\n",
            "489/489 [==============================] - 11s 22ms/step - loss: 0.7538 - accuracy: 0.7430 - val_loss: 0.5851 - val_accuracy: 0.7999\n",
            "Epoch 9/250\n",
            "488/489 [============================>.] - ETA: 0s - loss: 0.7251 - accuracy: 0.7531\n",
            "Epoch 9: saving model to /data/bast.h5\n",
            "489/489 [==============================] - 12s 24ms/step - loss: 0.7250 - accuracy: 0.7531 - val_loss: 0.5738 - val_accuracy: 0.8051\n",
            "Epoch 10/250\n",
            "488/489 [============================>.] - ETA: 0s - loss: 0.6971 - accuracy: 0.7620\n",
            "Epoch 10: saving model to /data/bast.h5\n",
            "489/489 [==============================] - 11s 23ms/step - loss: 0.6970 - accuracy: 0.7620 - val_loss: 0.5445 - val_accuracy: 0.8154\n",
            "Epoch 11/250\n",
            "487/489 [============================>.] - ETA: 0s - loss: 0.6752 - accuracy: 0.7702\n",
            "Epoch 11: saving model to /data/bast.h5\n",
            "489/489 [==============================] - 11s 23ms/step - loss: 0.6750 - accuracy: 0.7703 - val_loss: 0.5501 - val_accuracy: 0.8103\n",
            "Epoch 12/250\n",
            "487/489 [============================>.] - ETA: 0s - loss: 0.6594 - accuracy: 0.7749\n",
            "Epoch 12: saving model to /data/bast.h5\n",
            "489/489 [==============================] - 11s 23ms/step - loss: 0.6595 - accuracy: 0.7749 - val_loss: 0.5283 - val_accuracy: 0.8212\n",
            "Epoch 13/250\n",
            "487/489 [============================>.] - ETA: 0s - loss: 0.6385 - accuracy: 0.7815\n",
            "Epoch 13: saving model to /data/bast.h5\n",
            "489/489 [==============================] - 11s 23ms/step - loss: 0.6385 - accuracy: 0.7815 - val_loss: 0.5180 - val_accuracy: 0.8231\n",
            "Epoch 14/250\n",
            "488/489 [============================>.] - ETA: 0s - loss: 0.6258 - accuracy: 0.7860\n",
            "Epoch 14: saving model to /data/bast.h5\n",
            "489/489 [==============================] - 11s 23ms/step - loss: 0.6258 - accuracy: 0.7860 - val_loss: 0.5046 - val_accuracy: 0.8292\n",
            "Epoch 15/250\n",
            "489/489 [==============================] - ETA: 0s - loss: 0.6121 - accuracy: 0.7903\n",
            "Epoch 15: saving model to /data/bast.h5\n",
            "489/489 [==============================] - 11s 23ms/step - loss: 0.6121 - accuracy: 0.7903 - val_loss: 0.5185 - val_accuracy: 0.8268\n",
            "Epoch 16/250\n",
            "489/489 [==============================] - ETA: 0s - loss: 0.6067 - accuracy: 0.7937\n",
            "Epoch 16: saving model to /data/bast.h5\n",
            "489/489 [==============================] - 11s 23ms/step - loss: 0.6067 - accuracy: 0.7937 - val_loss: 0.4868 - val_accuracy: 0.8360\n",
            "Epoch 17/250\n",
            "487/489 [============================>.] - ETA: 0s - loss: 0.5910 - accuracy: 0.7986\n",
            "Epoch 17: saving model to /data/bast.h5\n",
            "489/489 [==============================] - 11s 23ms/step - loss: 0.5911 - accuracy: 0.7985 - val_loss: 0.4978 - val_accuracy: 0.8337\n",
            "Epoch 18/250\n",
            "489/489 [==============================] - ETA: 0s - loss: 0.5841 - accuracy: 0.8013\n",
            "Epoch 18: saving model to /data/bast.h5\n",
            "489/489 [==============================] - 11s 23ms/step - loss: 0.5841 - accuracy: 0.8013 - val_loss: 0.4816 - val_accuracy: 0.8396\n",
            "Epoch 19/250\n",
            "487/489 [============================>.] - ETA: 0s - loss: 0.5774 - accuracy: 0.8022\n",
            "Epoch 19: saving model to /data/bast.h5\n",
            "489/489 [==============================] - 12s 24ms/step - loss: 0.5773 - accuracy: 0.8022 - val_loss: 0.4874 - val_accuracy: 0.8387\n",
            "Epoch 20/250\n",
            "489/489 [==============================] - ETA: 0s - loss: 0.5606 - accuracy: 0.8087\n",
            "Epoch 20: saving model to /data/bast.h5\n",
            "489/489 [==============================] - 11s 23ms/step - loss: 0.5606 - accuracy: 0.8087 - val_loss: 0.4822 - val_accuracy: 0.8404\n",
            "Epoch 21/250\n",
            "489/489 [==============================] - ETA: 0s - loss: 0.5563 - accuracy: 0.8094\n",
            "Epoch 21: saving model to /data/bast.h5\n",
            "489/489 [==============================] - 11s 24ms/step - loss: 0.5563 - accuracy: 0.8094 - val_loss: 0.4901 - val_accuracy: 0.8346\n",
            "Epoch 22/250\n",
            "487/489 [============================>.] - ETA: 0s - loss: 0.5542 - accuracy: 0.8114\n",
            "Epoch 22: saving model to /data/bast.h5\n",
            "489/489 [==============================] - 11s 23ms/step - loss: 0.5541 - accuracy: 0.8114 - val_loss: 0.4625 - val_accuracy: 0.8489\n",
            "Epoch 23/250\n",
            "488/489 [============================>.] - ETA: 0s - loss: 0.5419 - accuracy: 0.8148\n",
            "Epoch 23: saving model to /data/bast.h5\n",
            "489/489 [==============================] - 12s 24ms/step - loss: 0.5418 - accuracy: 0.8148 - val_loss: 0.4723 - val_accuracy: 0.8453\n",
            "Epoch 24/250\n",
            "489/489 [==============================] - ETA: 0s - loss: 0.5350 - accuracy: 0.8162\n",
            "Epoch 24: saving model to /data/bast.h5\n",
            "489/489 [==============================] - 11s 23ms/step - loss: 0.5350 - accuracy: 0.8162 - val_loss: 0.4754 - val_accuracy: 0.8456\n",
            "Epoch 25/250\n",
            "488/489 [============================>.] - ETA: 0s - loss: 0.5256 - accuracy: 0.8198\n",
            "Epoch 25: saving model to /data/bast.h5\n",
            "489/489 [==============================] - 11s 23ms/step - loss: 0.5257 - accuracy: 0.8198 - val_loss: 0.4573 - val_accuracy: 0.8512\n",
            "Epoch 26/250\n",
            "489/489 [==============================] - ETA: 0s - loss: 0.5234 - accuracy: 0.8212\n",
            "Epoch 26: saving model to /data/bast.h5\n",
            "489/489 [==============================] - 11s 23ms/step - loss: 0.5234 - accuracy: 0.8212 - val_loss: 0.4674 - val_accuracy: 0.8477\n",
            "Epoch 27/250\n",
            "487/489 [============================>.] - ETA: 0s - loss: 0.5152 - accuracy: 0.8240\n",
            "Epoch 27: saving model to /data/bast.h5\n",
            "489/489 [==============================] - 12s 24ms/step - loss: 0.5153 - accuracy: 0.8240 - val_loss: 0.4570 - val_accuracy: 0.8478\n",
            "Epoch 28/250\n",
            "487/489 [============================>.] - ETA: 0s - loss: 0.5163 - accuracy: 0.8219\n",
            "Epoch 28: saving model to /data/bast.h5\n",
            "489/489 [==============================] - 12s 24ms/step - loss: 0.5161 - accuracy: 0.8220 - val_loss: 0.4647 - val_accuracy: 0.8469\n",
            "Epoch 29/250\n",
            "489/489 [==============================] - ETA: 0s - loss: 0.5052 - accuracy: 0.8260\n",
            "Epoch 29: saving model to /data/bast.h5\n",
            "489/489 [==============================] - 11s 23ms/step - loss: 0.5052 - accuracy: 0.8260 - val_loss: 0.4555 - val_accuracy: 0.8500\n",
            "Epoch 30/250\n",
            "487/489 [============================>.] - ETA: 0s - loss: 0.5032 - accuracy: 0.8259\n",
            "Epoch 30: saving model to /data/bast.h5\n",
            "489/489 [==============================] - 11s 23ms/step - loss: 0.5032 - accuracy: 0.8259 - val_loss: 0.4581 - val_accuracy: 0.8501\n",
            "Epoch 31/250\n",
            "487/489 [============================>.] - ETA: 0s - loss: 0.4956 - accuracy: 0.8301\n",
            "Epoch 31: saving model to /data/bast.h5\n",
            "489/489 [==============================] - 11s 23ms/step - loss: 0.4954 - accuracy: 0.8302 - val_loss: 0.4590 - val_accuracy: 0.8520\n",
            "Epoch 32/250\n",
            "489/489 [==============================] - ETA: 0s - loss: 0.4965 - accuracy: 0.8286\n",
            "Epoch 32: saving model to /data/bast.h5\n",
            "489/489 [==============================] - 11s 23ms/step - loss: 0.4965 - accuracy: 0.8286 - val_loss: 0.4578 - val_accuracy: 0.8514\n",
            "Epoch 33/250\n",
            "487/489 [============================>.] - ETA: 0s - loss: 0.4911 - accuracy: 0.8315\n",
            "Epoch 33: saving model to /data/bast.h5\n",
            "489/489 [==============================] - 12s 24ms/step - loss: 0.4911 - accuracy: 0.8315 - val_loss: 0.4732 - val_accuracy: 0.8458\n",
            "Epoch 34/250\n",
            "489/489 [==============================] - ETA: 0s - loss: 0.4831 - accuracy: 0.8326\n",
            "Epoch 34: saving model to /data/bast.h5\n",
            "489/489 [==============================] - 11s 23ms/step - loss: 0.4831 - accuracy: 0.8326 - val_loss: 0.4519 - val_accuracy: 0.8513\n",
            "Epoch 35/250\n",
            "488/489 [============================>.] - ETA: 0s - loss: 0.4838 - accuracy: 0.8338\n",
            "Epoch 35: saving model to /data/bast.h5\n",
            "489/489 [==============================] - 12s 24ms/step - loss: 0.4838 - accuracy: 0.8339 - val_loss: 0.4522 - val_accuracy: 0.8512\n",
            "Epoch 36/250\n",
            "487/489 [============================>.] - ETA: 0s - loss: 0.4797 - accuracy: 0.8355\n",
            "Epoch 36: saving model to /data/bast.h5\n",
            "489/489 [==============================] - 11s 23ms/step - loss: 0.4797 - accuracy: 0.8356 - val_loss: 0.4594 - val_accuracy: 0.8519\n",
            "Epoch 37/250\n",
            "488/489 [============================>.] - ETA: 0s - loss: 0.4727 - accuracy: 0.8378\n",
            "Epoch 37: saving model to /data/bast.h5\n",
            "489/489 [==============================] - 11s 23ms/step - loss: 0.4727 - accuracy: 0.8379 - val_loss: 0.4351 - val_accuracy: 0.8594\n",
            "Epoch 38/250\n",
            "489/489 [==============================] - ETA: 0s - loss: 0.4751 - accuracy: 0.8368\n",
            "Epoch 38: saving model to /data/bast.h5\n",
            "489/489 [==============================] - 11s 23ms/step - loss: 0.4751 - accuracy: 0.8368 - val_loss: 0.4539 - val_accuracy: 0.8548\n",
            "Epoch 39/250\n",
            "489/489 [==============================] - ETA: 0s - loss: 0.4658 - accuracy: 0.8389\n",
            "Epoch 39: saving model to /data/bast.h5\n",
            "489/489 [==============================] - 11s 23ms/step - loss: 0.4658 - accuracy: 0.8389 - val_loss: 0.4536 - val_accuracy: 0.8529\n",
            "Epoch 40/250\n",
            "488/489 [============================>.] - ETA: 0s - loss: 0.4652 - accuracy: 0.8410\n",
            "Epoch 40: saving model to /data/bast.h5\n",
            "489/489 [==============================] - 11s 23ms/step - loss: 0.4653 - accuracy: 0.8410 - val_loss: 0.4509 - val_accuracy: 0.8522\n",
            "Epoch 41/250\n",
            "487/489 [============================>.] - ETA: 0s - loss: 0.4614 - accuracy: 0.8423\n",
            "Epoch 41: saving model to /data/bast.h5\n",
            "489/489 [==============================] - 11s 23ms/step - loss: 0.4614 - accuracy: 0.8423 - val_loss: 0.4688 - val_accuracy: 0.8485\n",
            "Epoch 42/250\n",
            "489/489 [==============================] - ETA: 0s - loss: 0.4588 - accuracy: 0.8413\n",
            "Epoch 42: saving model to /data/bast.h5\n",
            "489/489 [==============================] - 12s 24ms/step - loss: 0.4588 - accuracy: 0.8413 - val_loss: 0.4642 - val_accuracy: 0.8492\n"
          ]
        }
      ]
    },
    {
      "cell_type": "code",
      "source": [
        "cnn.evaluate(x_test, y_test)"
      ],
      "metadata": {
        "colab": {
          "base_uri": "https://localhost:8080/"
        },
        "id": "aMuesrobFCGX",
        "outputId": "c1def060-46e9-42d0-a3c8-555e4fdf89e3"
      },
      "execution_count": 17,
      "outputs": [
        {
          "output_type": "stream",
          "name": "stdout",
          "text": [
            "313/313 [==============================] - 1s 4ms/step - loss: 0.4642 - accuracy: 0.8492\n"
          ]
        },
        {
          "output_type": "execute_result",
          "data": {
            "text/plain": [
              "[0.4642084538936615, 0.8492000102996826]"
            ]
          },
          "metadata": {},
          "execution_count": 17
        }
      ]
    },
    {
      "cell_type": "code",
      "source": [
        "plt.title('loss')\n",
        "plt.xlabel('epoch')\n",
        "plt.ylabel('loss')\n",
        "plt.plot(hist.history['loss'],label='train loss')\n",
        "plt.plot(hist.history['val_loss'], label='validation loss')\n",
        "plt.legend(loc='best')\n",
        "plt.grid()\n",
        "plt.show()"
      ],
      "metadata": {
        "colab": {
          "base_uri": "https://localhost:8080/",
          "height": 295
        },
        "id": "RNvIAv7cEdOU",
        "outputId": "a16d53fa-efbd-4341-e4a8-62ecbd46d447"
      },
      "execution_count": 18,
      "outputs": [
        {
          "output_type": "display_data",
          "data": {
            "text/plain": [
              "<Figure size 432x288 with 1 Axes>"
            ],
            "image/png": "[encoded data removed]"
          },
          "metadata": {
            "needs_background": "light"
          }
        }
      ]
    },
    {
      "cell_type": "code",
      "source": [
        "plt.title('accuracy')\n",
        "plt.xlabel('epoch')\n",
        "plt.ylabel('accuracy')\n",
        "plt.plot(hist.history['accuracy'],label='train accuracy')\n",
        "plt.plot(hist.history['val_accuracy'], label='validation accuracy')\n",
        "plt.legend(loc='best')\n",
        "plt.grid()\n",
        "plt.show()"
      ],
      "metadata": {
        "colab": {
          "base_uri": "https://localhost:8080/",
          "height": 295
        },
        "id": "sgtFsEDrE0Da",
        "outputId": "1d325414-6977-4993-86f2-ca6d3c878872"
      },
      "execution_count": 19,
      "outputs": [
        {
          "output_type": "display_data",
          "data": {
            "text/plain": [
              "<Figure size 432x288 with 1 Axes>"
            ],
            "image/png": "[encoded data removed]"
          },
          "metadata": {
            "needs_background": "light"
          }
        }
      ]
    }
  ]
}