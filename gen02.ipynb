{
  "nbformat": 4,
  "nbformat_minor": 0,
  "metadata": {
    "colab": {
      "provenance": [],
      "authorship_tag": "ABX9TyO1oQR8ObADUaoaq1KNTd9V",
      "include_colab_link": true
    },
    "kernelspec": {
      "name": "python3",
      "display_name": "Python 3"
    },
    "language_info": {
      "name": "python"
    },
    "accelerator": "GPU",
    "gpuClass": "standard"
  },
  "cells": [
    {
      "cell_type": "markdown",
      "metadata": {
        "id": "view-in-github",
        "colab_type": "text"
      },
      "source": [
        "<a href=\"https://colab.research.google.com/github/cactusvibeyjy/colab/blob/main/gen02.ipynb\" target=\"_parent\"><img src=\"https://colab.research.google.com/assets/colab-badge.svg\" alt=\"Open In Colab\"/></a>"
      ]
    },
    {
      "cell_type": "code",
      "execution_count": 4,
      "metadata": {
        "id": "mnOhhr7z2fOF"
      },
      "outputs": [],
      "source": [
        "import tensorflow as tf\n",
        "import numpy as np\n",
        "import matplotlib.pyplot as plt\n",
        "import os\n",
        "from tensorflow.keras.datasets import cifar10\n",
        "from tensorflow.keras.models import Sequential\n",
        "from tensorflow.keras.layers import Conv2D, MaxPool2D, Flatten, Dense, Dropout\n",
        "from tensorflow.keras.optimizers import Adam, RMSprop\n",
        "from tensorflow.keras.callbacks import ModelCheckpoint, EarlyStopping\n",
        "from tensorflow.keras.preprocessing import image\n",
        "from tensorflow.keras.preprocessing.image import load_img\n",
        "from tensorflow.keras.preprocessing.image import img_to_array\n",
        "from tensorflow.keras.preprocessing.image import ImageDataGenerator"
      ]
    },
    {
      "cell_type": "code",
      "source": [
        "gen=ImageDataGenerator(rotation_range=15, width_shift_range=0.2, shear_range=0.2, height_shift_range=0.2, horizontal_flip=True)"
      ],
      "metadata": {
        "id": "EuR7AiYD3Qmc"
      },
      "execution_count": 5,
      "outputs": []
    },
    {
      "cell_type": "code",
      "source": [
        "(x_train, y_train), (x_test, y_test) =cifar10.load_data()\n",
        "x_train = x_train.astype(np.float32)/255.0\n",
        "x_test=x_test.astype(np.float32) /255.0"
      ],
      "metadata": {
        "id": "PPZgTMRy6sTd"
      },
      "execution_count": 6,
      "outputs": []
    },
    {
      "cell_type": "code",
      "source": [
        "augment_ratio =1.5 #전체 데이터의 150%\n",
        "augment_size = int(augment_ratio * x_train.shape[0])\n",
        "print(augment_size)\n",
        "#전체 x_train개수의 150% 비율만큼\n",
        "randidx = np.random.randint(x_train.shape[0], size=augment_size)\n",
        "#임의로 선택된 데이터는 원본데이터를 참조하기 때문에\n",
        "#원본데이터에 영향을 줄 수 있음. 그래서 copy() 함수를 통해 안전하게 복사본 만듬\n",
        "x_augmented = x_train[randidx].copy()\n",
        "y_augmented = y_train[randidx].copy()\n",
        "\n",
        "print(x_augmented.shape, y_augmented.shape)\n",
        "#이미지 보강 실행\n",
        "x_augmented, y_augmented = gen.flow(x_augmented, y_augmented, batch_size=augment_size, shuffle=False).next()\n",
        "\n",
        "print(x_augmented.shape, y_augmented.shape)"
      ],
      "metadata": {
        "colab": {
          "base_uri": "https://localhost:8080/"
        },
        "id": "HmPd13sC7GYV",
        "outputId": "4c0b32f7-7331-4625-edde-d61589afdb2d"
      },
      "execution_count": 7,
      "outputs": [
        {
          "output_type": "stream",
          "name": "stdout",
          "text": [
            "75000\n",
            "(75000, 32, 32, 3) (75000, 1)\n",
            "(75000, 32, 32, 3) (75000, 1)\n"
          ]
        }
      ]
    },
    {
      "cell_type": "code",
      "source": [
        "print(x_train.shape)"
      ],
      "metadata": {
        "colab": {
          "base_uri": "https://localhost:8080/"
        },
        "id": "oU-J6QmY-u29",
        "outputId": "b318c8d7-37b5-408b-a26c-ae05fce511f4"
      },
      "execution_count": 8,
      "outputs": [
        {
          "output_type": "stream",
          "name": "stdout",
          "text": [
            "(50000, 32, 32, 3)\n"
          ]
        }
      ]
    },
    {
      "cell_type": "code",
      "source": [
        "#x_train, y_train에 보강된 데이터 추가\n",
        "x_train = np.concatenate((x_train, x_augmented))\n",
        "y_train = np.concatenate((y_train, y_augmented))\n",
        "\n",
        "print(x_augmented.shape, y_augmented.shape)"
      ],
      "metadata": {
        "colab": {
          "base_uri": "https://localhost:8080/"
        },
        "id": "hcxqBoxz8QwU",
        "outputId": "9a73271e-d32d-4a8c-a4d5-4df69c665e9a"
      },
      "execution_count": 9,
      "outputs": [
        {
          "output_type": "stream",
          "name": "stdout",
          "text": [
            "(75000, 32, 32, 3) (75000, 1)\n"
          ]
        }
      ]
    },
    {
      "cell_type": "code",
      "source": [
        "cnn=Sequential()\n",
        "cnn.add(Conv2D(32,(3,3),input_shape=(32,32,3), padding='same', activation='relu'))\n",
        "cnn.add(Conv2D(32,(3,3),input_shape=(32,32,3), padding='same'))\n",
        "cnn.add(MaxPool2D(pool_size=(2,2)))\n",
        "cnn.add(Dropout(0.25))\n",
        "\n",
        "cnn.add(Conv2D(64,(3,3), padding='same', activation='relu'))\n",
        "cnn.add(Conv2D(64,(3,3), padding='same', activation='relu'))\n",
        "cnn.add(MaxPool2D(pool_size=(2,2)))\n",
        "cnn.add(Dropout(0.25))\n",
        "\n",
        "# cnn.add(Conv2D(128,(3,3), padding='same', activation='relu'))\n",
        "# cnn.add(MaxPool2D(pool_size=(2,2)))\n",
        "# cnn.add(Dropout(0.25))\n",
        "\n",
        "# cnn.add(Conv2D(256,(3,3), padding='same', activation='relu'))\n",
        "# cnn.add(MaxPool2D(pool_size=(2,2)))\n",
        "# cnn.add(Dropout(0.25))\n",
        "\n",
        "cnn.add(Flatten())\n",
        "\n",
        "cnn.add(Dense(128, activation='relu'))\n",
        "cnn.add(Dropout(0.5))\n",
        "cnn.add(Dense(10, activation='softmax'))\n",
        "\n",
        "cnn.summary()"
      ],
      "metadata": {
        "colab": {
          "base_uri": "https://localhost:8080/"
        },
        "id": "JBQtsklK9y2_",
        "outputId": "577466eb-29fc-44f7-bf22-8d9fc601c4f6"
      },
      "execution_count": 10,
      "outputs": [
        {
          "output_type": "stream",
          "name": "stdout",
          "text": [
            "Model: \"sequential\"\n",
            "_________________________________________________________________\n",
            " Layer (type)                Output Shape              Param #   \n",
            "=================================================================\n",
            " conv2d (Conv2D)             (None, 32, 32, 32)        896       \n",
            "                                                                 \n",
            " conv2d_1 (Conv2D)           (None, 32, 32, 32)        9248      \n",
            "                                                                 \n",
            " max_pooling2d (MaxPooling2D  (None, 16, 16, 32)       0         \n",
            " )                                                               \n",
            "                                                                 \n",
            " dropout (Dropout)           (None, 16, 16, 32)        0         \n",
            "                                                                 \n",
            " conv2d_2 (Conv2D)           (None, 16, 16, 64)        18496     \n",
            "                                                                 \n",
            " conv2d_3 (Conv2D)           (None, 16, 16, 64)        36928     \n",
            "                                                                 \n",
            " max_pooling2d_1 (MaxPooling  (None, 8, 8, 64)         0         \n",
            " 2D)                                                             \n",
            "                                                                 \n",
            " dropout_1 (Dropout)         (None, 8, 8, 64)          0         \n",
            "                                                                 \n",
            " flatten (Flatten)           (None, 4096)              0         \n",
            "                                                                 \n",
            " dense (Dense)               (None, 128)               524416    \n",
            "                                                                 \n",
            " dropout_2 (Dropout)         (None, 128)               0         \n",
            "                                                                 \n",
            " dense_1 (Dense)             (None, 10)                1290      \n",
            "                                                                 \n",
            "=================================================================\n",
            "Total params: 591,274\n",
            "Trainable params: 591,274\n",
            "Non-trainable params: 0\n",
            "_________________________________________________________________\n"
          ]
        }
      ]
    },
    {
      "cell_type": "code",
      "source": [
        "from datetime import datetime\n",
        "start_time = datetime.now()\n",
        "cnn.compile(loss='sparse_categorical_crossentropy', optimizer=Adam(), metrics=['accuracy'])\n",
        "\n",
        "early_stopping=EarlyStopping(monitor='val_loss', patience=5)\n",
        "model_checkpoint=ModelCheckpoint(filepath=\"/data/bast.h5\", monitor='val_loss', save_base_only=True, verbose=1)\n",
        "\n",
        "hist=cnn.fit(x_train, y_train, batch_size=256, epochs=250, validation_data=(x_test, y_test), callbacks=[early_stopping, model_checkpoint])\n",
        "\n",
        "end_time=datetime.now()"
      ],
      "metadata": {
        "colab": {
          "base_uri": "https://localhost:8080/"
        },
        "id": "MfPN9nmT_UjB",
        "outputId": "069077a2-5153-487b-a297-e5db280c8bf6"
      },
      "execution_count": 11,
      "outputs": [
        {
          "output_type": "stream",
          "name": "stdout",
          "text": [
            "Epoch 1/250\n",
            "489/489 [==============================] - ETA: 0s - loss: 1.6727 - accuracy: 0.3897\n",
            "Epoch 1: saving model to /data/bast.h5\n",
            "489/489 [==============================] - 18s 19ms/step - loss: 1.6727 - accuracy: 0.3897 - val_loss: 1.2227 - val_accuracy: 0.5582\n",
            "Epoch 2/250\n",
            "487/489 [============================>.] - ETA: 0s - loss: 1.3328 - accuracy: 0.5218\n",
            "Epoch 2: saving model to /data/bast.h5\n",
            "489/489 [==============================] - 9s 18ms/step - loss: 1.3327 - accuracy: 0.5219 - val_loss: 0.9957 - val_accuracy: 0.6467\n",
            "Epoch 3/250\n",
            "487/489 [============================>.] - ETA: 0s - loss: 1.1937 - accuracy: 0.5778\n",
            "Epoch 3: saving model to /data/bast.h5\n",
            "489/489 [==============================] - 9s 19ms/step - loss: 1.1934 - accuracy: 0.5780 - val_loss: 0.9121 - val_accuracy: 0.6797\n",
            "Epoch 4/250\n",
            "487/489 [============================>.] - ETA: 0s - loss: 1.0863 - accuracy: 0.6168\n",
            "Epoch 4: saving model to /data/bast.h5\n",
            "489/489 [==============================] - 9s 18ms/step - loss: 1.0864 - accuracy: 0.6168 - val_loss: 0.8082 - val_accuracy: 0.7184\n",
            "Epoch 5/250\n",
            "487/489 [============================>.] - ETA: 0s - loss: 1.0168 - accuracy: 0.6431\n",
            "Epoch 5: saving model to /data/bast.h5\n",
            "489/489 [==============================] - 9s 18ms/step - loss: 1.0167 - accuracy: 0.6430 - val_loss: 0.7579 - val_accuracy: 0.7353\n",
            "Epoch 6/250\n",
            "487/489 [============================>.] - ETA: 0s - loss: 0.9626 - accuracy: 0.6630\n",
            "Epoch 6: saving model to /data/bast.h5\n",
            "489/489 [==============================] - 9s 19ms/step - loss: 0.9625 - accuracy: 0.6631 - val_loss: 0.7331 - val_accuracy: 0.7448\n",
            "Epoch 7/250\n",
            "487/489 [============================>.] - ETA: 0s - loss: 0.9235 - accuracy: 0.6755\n",
            "Epoch 7: saving model to /data/bast.h5\n",
            "489/489 [==============================] - 9s 19ms/step - loss: 0.9234 - accuracy: 0.6755 - val_loss: 0.6957 - val_accuracy: 0.7589\n",
            "Epoch 8/250\n",
            "487/489 [============================>.] - ETA: 0s - loss: 0.8828 - accuracy: 0.6920\n",
            "Epoch 8: saving model to /data/bast.h5\n",
            "489/489 [==============================] - 9s 19ms/step - loss: 0.8830 - accuracy: 0.6920 - val_loss: 0.6821 - val_accuracy: 0.7591\n",
            "Epoch 9/250\n",
            "487/489 [============================>.] - ETA: 0s - loss: 0.8551 - accuracy: 0.7014\n",
            "Epoch 9: saving model to /data/bast.h5\n",
            "489/489 [==============================] - 9s 19ms/step - loss: 0.8554 - accuracy: 0.7013 - val_loss: 0.6771 - val_accuracy: 0.7638\n",
            "Epoch 10/250\n",
            "487/489 [============================>.] - ETA: 0s - loss: 0.8339 - accuracy: 0.7096\n",
            "Epoch 10: saving model to /data/bast.h5\n",
            "489/489 [==============================] - 9s 19ms/step - loss: 0.8338 - accuracy: 0.7096 - val_loss: 0.6473 - val_accuracy: 0.7726\n",
            "Epoch 11/250\n",
            "487/489 [============================>.] - ETA: 0s - loss: 0.8107 - accuracy: 0.7159\n",
            "Epoch 11: saving model to /data/bast.h5\n",
            "489/489 [==============================] - 9s 19ms/step - loss: 0.8105 - accuracy: 0.7160 - val_loss: 0.6645 - val_accuracy: 0.7731\n",
            "Epoch 12/250\n",
            "487/489 [============================>.] - ETA: 0s - loss: 0.7892 - accuracy: 0.7233\n",
            "Epoch 12: saving model to /data/bast.h5\n",
            "489/489 [==============================] - 9s 19ms/step - loss: 0.7892 - accuracy: 0.7233 - val_loss: 0.6191 - val_accuracy: 0.7876\n",
            "Epoch 13/250\n",
            "487/489 [============================>.] - ETA: 0s - loss: 0.7702 - accuracy: 0.7303\n",
            "Epoch 13: saving model to /data/bast.h5\n",
            "489/489 [==============================] - 9s 19ms/step - loss: 0.7703 - accuracy: 0.7302 - val_loss: 0.6251 - val_accuracy: 0.7830\n",
            "Epoch 14/250\n",
            "487/489 [============================>.] - ETA: 0s - loss: 0.7557 - accuracy: 0.7347\n",
            "Epoch 14: saving model to /data/bast.h5\n",
            "489/489 [==============================] - 10s 20ms/step - loss: 0.7559 - accuracy: 0.7346 - val_loss: 0.6037 - val_accuracy: 0.7904\n",
            "Epoch 15/250\n",
            "487/489 [============================>.] - ETA: 0s - loss: 0.7436 - accuracy: 0.7399\n",
            "Epoch 15: saving model to /data/bast.h5\n",
            "489/489 [==============================] - 9s 19ms/step - loss: 0.7437 - accuracy: 0.7399 - val_loss: 0.5995 - val_accuracy: 0.7945\n",
            "Epoch 16/250\n",
            "487/489 [============================>.] - ETA: 0s - loss: 0.7241 - accuracy: 0.7447\n",
            "Epoch 16: saving model to /data/bast.h5\n",
            "489/489 [==============================] - 9s 19ms/step - loss: 0.7241 - accuracy: 0.7447 - val_loss: 0.5879 - val_accuracy: 0.7969\n",
            "Epoch 17/250\n",
            "487/489 [============================>.] - ETA: 0s - loss: 0.7153 - accuracy: 0.7486\n",
            "Epoch 17: saving model to /data/bast.h5\n",
            "489/489 [==============================] - 9s 19ms/step - loss: 0.7155 - accuracy: 0.7486 - val_loss: 0.6132 - val_accuracy: 0.7874\n",
            "Epoch 18/250\n",
            "487/489 [============================>.] - ETA: 0s - loss: 0.6985 - accuracy: 0.7535\n",
            "Epoch 18: saving model to /data/bast.h5\n",
            "489/489 [==============================] - 9s 19ms/step - loss: 0.6985 - accuracy: 0.7534 - val_loss: 0.5919 - val_accuracy: 0.7981\n",
            "Epoch 19/250\n",
            "487/489 [============================>.] - ETA: 0s - loss: 0.6897 - accuracy: 0.7564\n",
            "Epoch 19: saving model to /data/bast.h5\n",
            "489/489 [==============================] - 9s 19ms/step - loss: 0.6899 - accuracy: 0.7564 - val_loss: 0.5778 - val_accuracy: 0.7980\n",
            "Epoch 20/250\n",
            "487/489 [============================>.] - ETA: 0s - loss: 0.6773 - accuracy: 0.7630\n",
            "Epoch 20: saving model to /data/bast.h5\n",
            "489/489 [==============================] - 10s 19ms/step - loss: 0.6774 - accuracy: 0.7630 - val_loss: 0.6091 - val_accuracy: 0.7936\n",
            "Epoch 21/250\n",
            "487/489 [============================>.] - ETA: 0s - loss: 0.6723 - accuracy: 0.7626\n",
            "Epoch 21: saving model to /data/bast.h5\n",
            "489/489 [==============================] - 9s 19ms/step - loss: 0.6724 - accuracy: 0.7626 - val_loss: 0.5699 - val_accuracy: 0.8055\n",
            "Epoch 22/250\n",
            "487/489 [============================>.] - ETA: 0s - loss: 0.6616 - accuracy: 0.7663\n",
            "Epoch 22: saving model to /data/bast.h5\n",
            "489/489 [==============================] - 11s 22ms/step - loss: 0.6619 - accuracy: 0.7662 - val_loss: 0.5813 - val_accuracy: 0.8017\n",
            "Epoch 23/250\n",
            "486/489 [============================>.] - ETA: 0s - loss: 0.6505 - accuracy: 0.7705\n",
            "Epoch 23: saving model to /data/bast.h5\n",
            "489/489 [==============================] - 9s 19ms/step - loss: 0.6503 - accuracy: 0.7706 - val_loss: 0.5639 - val_accuracy: 0.8092\n",
            "Epoch 24/250\n",
            "487/489 [============================>.] - ETA: 0s - loss: 0.6428 - accuracy: 0.7736\n",
            "Epoch 24: saving model to /data/bast.h5\n",
            "489/489 [==============================] - 9s 19ms/step - loss: 0.6427 - accuracy: 0.7736 - val_loss: 0.5749 - val_accuracy: 0.8080\n",
            "Epoch 25/250\n",
            "487/489 [============================>.] - ETA: 0s - loss: 0.6357 - accuracy: 0.7749\n",
            "Epoch 25: saving model to /data/bast.h5\n",
            "489/489 [==============================] - 9s 19ms/step - loss: 0.6357 - accuracy: 0.7748 - val_loss: 0.5570 - val_accuracy: 0.8149\n",
            "Epoch 26/250\n",
            "487/489 [============================>.] - ETA: 0s - loss: 0.6290 - accuracy: 0.7791\n",
            "Epoch 26: saving model to /data/bast.h5\n",
            "489/489 [==============================] - 10s 19ms/step - loss: 0.6292 - accuracy: 0.7791 - val_loss: 0.5647 - val_accuracy: 0.8074\n",
            "Epoch 27/250\n",
            "487/489 [============================>.] - ETA: 0s - loss: 0.6248 - accuracy: 0.7798\n",
            "Epoch 27: saving model to /data/bast.h5\n",
            "489/489 [==============================] - 9s 19ms/step - loss: 0.6248 - accuracy: 0.7798 - val_loss: 0.5573 - val_accuracy: 0.8112\n",
            "Epoch 28/250\n",
            "487/489 [============================>.] - ETA: 0s - loss: 0.6188 - accuracy: 0.7809\n",
            "Epoch 28: saving model to /data/bast.h5\n",
            "489/489 [==============================] - 9s 19ms/step - loss: 0.6191 - accuracy: 0.7809 - val_loss: 0.5669 - val_accuracy: 0.8063\n",
            "Epoch 29/250\n",
            "487/489 [============================>.] - ETA: 0s - loss: 0.6067 - accuracy: 0.7848\n",
            "Epoch 29: saving model to /data/bast.h5\n",
            "489/489 [==============================] - 10s 20ms/step - loss: 0.6066 - accuracy: 0.7848 - val_loss: 0.5807 - val_accuracy: 0.8111\n",
            "Epoch 30/250\n",
            "487/489 [============================>.] - ETA: 0s - loss: 0.6055 - accuracy: 0.7851\n",
            "Epoch 30: saving model to /data/bast.h5\n",
            "489/489 [==============================] - 10s 20ms/step - loss: 0.6056 - accuracy: 0.7850 - val_loss: 0.5542 - val_accuracy: 0.8150\n",
            "Epoch 31/250\n",
            "487/489 [============================>.] - ETA: 0s - loss: 0.5961 - accuracy: 0.7877\n",
            "Epoch 31: saving model to /data/bast.h5\n",
            "489/489 [==============================] - 10s 20ms/step - loss: 0.5959 - accuracy: 0.7878 - val_loss: 0.5553 - val_accuracy: 0.8162\n",
            "Epoch 32/250\n",
            "487/489 [============================>.] - ETA: 0s - loss: 0.5867 - accuracy: 0.7910\n",
            "Epoch 32: saving model to /data/bast.h5\n",
            "489/489 [==============================] - 9s 19ms/step - loss: 0.5865 - accuracy: 0.7910 - val_loss: 0.5616 - val_accuracy: 0.8140\n",
            "Epoch 33/250\n",
            "487/489 [============================>.] - ETA: 0s - loss: 0.5835 - accuracy: 0.7927\n",
            "Epoch 33: saving model to /data/bast.h5\n",
            "489/489 [==============================] - 9s 19ms/step - loss: 0.5836 - accuracy: 0.7927 - val_loss: 0.5605 - val_accuracy: 0.8151\n",
            "Epoch 34/250\n",
            "487/489 [============================>.] - ETA: 0s - loss: 0.5818 - accuracy: 0.7937\n",
            "Epoch 34: saving model to /data/bast.h5\n",
            "489/489 [==============================] - 9s 19ms/step - loss: 0.5817 - accuracy: 0.7937 - val_loss: 0.5545 - val_accuracy: 0.8166\n",
            "Epoch 35/250\n",
            "487/489 [============================>.] - ETA: 0s - loss: 0.5731 - accuracy: 0.7961\n",
            "Epoch 35: saving model to /data/bast.h5\n",
            "489/489 [==============================] - 9s 19ms/step - loss: 0.5732 - accuracy: 0.7961 - val_loss: 0.5479 - val_accuracy: 0.8193\n",
            "Epoch 36/250\n",
            "487/489 [============================>.] - ETA: 0s - loss: 0.5682 - accuracy: 0.7982\n",
            "Epoch 36: saving model to /data/bast.h5\n",
            "489/489 [==============================] - 9s 19ms/step - loss: 0.5684 - accuracy: 0.7982 - val_loss: 0.5594 - val_accuracy: 0.8135\n",
            "Epoch 37/250\n",
            "487/489 [============================>.] - ETA: 0s - loss: 0.5645 - accuracy: 0.8006\n",
            "Epoch 37: saving model to /data/bast.h5\n",
            "489/489 [==============================] - 10s 20ms/step - loss: 0.5645 - accuracy: 0.8005 - val_loss: 0.5664 - val_accuracy: 0.8176\n",
            "Epoch 38/250\n",
            "487/489 [============================>.] - ETA: 0s - loss: 0.5596 - accuracy: 0.8004\n",
            "Epoch 38: saving model to /data/bast.h5\n",
            "489/489 [==============================] - 9s 19ms/step - loss: 0.5600 - accuracy: 0.8002 - val_loss: 0.5556 - val_accuracy: 0.8178\n",
            "Epoch 39/250\n",
            "487/489 [============================>.] - ETA: 0s - loss: 0.5574 - accuracy: 0.8015\n",
            "Epoch 39: saving model to /data/bast.h5\n",
            "489/489 [==============================] - 9s 19ms/step - loss: 0.5573 - accuracy: 0.8016 - val_loss: 0.5699 - val_accuracy: 0.8156\n",
            "Epoch 40/250\n",
            "487/489 [============================>.] - ETA: 0s - loss: 0.5589 - accuracy: 0.8009\n",
            "Epoch 40: saving model to /data/bast.h5\n",
            "489/489 [==============================] - 9s 19ms/step - loss: 0.5589 - accuracy: 0.8010 - val_loss: 0.5456 - val_accuracy: 0.8220\n",
            "Epoch 41/250\n",
            "487/489 [============================>.] - ETA: 0s - loss: 0.5514 - accuracy: 0.8022\n",
            "Epoch 41: saving model to /data/bast.h5\n",
            "489/489 [==============================] - 9s 19ms/step - loss: 0.5516 - accuracy: 0.8021 - val_loss: 0.5668 - val_accuracy: 0.8172\n",
            "Epoch 42/250\n",
            "486/489 [============================>.] - ETA: 0s - loss: 0.5490 - accuracy: 0.8058\n",
            "Epoch 42: saving model to /data/bast.h5\n",
            "489/489 [==============================] - 10s 20ms/step - loss: 0.5488 - accuracy: 0.8058 - val_loss: 0.5592 - val_accuracy: 0.8216\n",
            "Epoch 43/250\n",
            "487/489 [============================>.] - ETA: 0s - loss: 0.5391 - accuracy: 0.8071\n",
            "Epoch 43: saving model to /data/bast.h5\n",
            "489/489 [==============================] - 9s 19ms/step - loss: 0.5391 - accuracy: 0.8071 - val_loss: 0.5649 - val_accuracy: 0.8119\n",
            "Epoch 44/250\n",
            "487/489 [============================>.] - ETA: 0s - loss: 0.5401 - accuracy: 0.8079\n",
            "Epoch 44: saving model to /data/bast.h5\n",
            "489/489 [==============================] - 9s 19ms/step - loss: 0.5399 - accuracy: 0.8080 - val_loss: 0.5483 - val_accuracy: 0.8204\n",
            "Epoch 45/250\n",
            "487/489 [============================>.] - ETA: 0s - loss: 0.5360 - accuracy: 0.8101\n",
            "Epoch 45: saving model to /data/bast.h5\n",
            "489/489 [==============================] - 9s 19ms/step - loss: 0.5359 - accuracy: 0.8101 - val_loss: 0.5641 - val_accuracy: 0.8180\n"
          ]
        }
      ]
    },
    {
      "cell_type": "code",
      "source": [
        "cnn.evaluate(x_test, y_test)"
      ],
      "metadata": {
        "colab": {
          "base_uri": "https://localhost:8080/"
        },
        "id": "aMuesrobFCGX",
        "outputId": "e22a5efc-bcbf-430f-91c3-cbebaa62cc85"
      },
      "execution_count": 12,
      "outputs": [
        {
          "output_type": "stream",
          "name": "stdout",
          "text": [
            "313/313 [==============================] - 1s 3ms/step - loss: 0.5641 - accuracy: 0.8180\n"
          ]
        },
        {
          "output_type": "execute_result",
          "data": {
            "text/plain": [
              "[0.5641123056411743, 0.8180000185966492]"
            ]
          },
          "metadata": {},
          "execution_count": 12
        }
      ]
    },
    {
      "cell_type": "code",
      "source": [
        "plt.title('loss')\n",
        "plt.xlabel('epoch')\n",
        "plt.ylabel('loss')\n",
        "plt.plot(hist.history['loss'],label='train loss')\n",
        "plt.plot(hist.history['val_loss'], label='validation loss')\n",
        "plt.legend(loc='best')\n",
        "plt.grid()\n",
        "plt.show()"
      ],
      "metadata": {
        "colab": {
          "base_uri": "https://localhost:8080/",
          "height": 295
        },
        "id": "RNvIAv7cEdOU",
        "outputId": "d4b0a03d-898b-4887-80f4-46e2ea0a03cf"
      },
      "execution_count": 13,
      "outputs": [
        {
          "output_type": "display_data",
          "data": {
            "text/plain": [
              "<Figure size 432x288 with 1 Axes>"
            ],
            "image/png": "[encoded data removed]"
          },
          "metadata": {
            "needs_background": "light"
          }
        }
      ]
    },
    {
      "cell_type": "code",
      "source": [
        "plt.title('accuracy')\n",
        "plt.xlabel('epoch')\n",
        "plt.ylabel('accuracy')\n",
        "plt.plot(hist.history['accuracy'],label='train accuracy')\n",
        "plt.plot(hist.history['val_accuracy'], label='validation accuracy')\n",
        "plt.legend(loc='best')\n",
        "plt.grid()\n",
        "plt.show()"
      ],
      "metadata": {
        "colab": {
          "base_uri": "https://localhost:8080/",
          "height": 295
        },
        "id": "sgtFsEDrE0Da",
        "outputId": "60db4f63-674b-493c-c1c1-d56c0948440f"
      },
      "execution_count": 14,
      "outputs": [
        {
          "output_type": "display_data",
          "data": {
            "text/plain": [
              "<Figure size 432x288 with 1 Axes>"
            ],
            "image/png": "[encoded data removed]"
          },
          "metadata": {
            "needs_background": "light"
          }
        }
      ]
    }
  ]
}