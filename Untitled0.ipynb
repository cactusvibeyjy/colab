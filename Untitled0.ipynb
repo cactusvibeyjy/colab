{
  "nbformat": 4,
  "nbformat_minor": 0,
  "metadata": {
    "colab": {
      "provenance": [],
      "authorship_tag": "ABX9TyPkq7sstrVkHmi/1qwxBQZJ",
      "include_colab_link": true
    },
    "kernelspec": {
      "name": "python3",
      "display_name": "Python 3"
    },
    "language_info": {
      "name": "python"
    },
    "accelerator": "GPU",
    "gpuClass": "standard"
  },
  "cells": [
    {
      "cell_type": "markdown",
      "metadata": {
        "id": "view-in-github",
        "colab_type": "text"
      },
      "source": [
        "<a href=\"https://colab.research.google.com/github/cactusvibeyjy/colab/blob/main/Untitled0.ipynb\" target=\"_parent\"><img src=\"https://colab.research.google.com/assets/colab-badge.svg\" alt=\"Open In Colab\"/></a>"
      ]
    },
    {
      "cell_type": "code",
      "execution_count": 3,
      "metadata": {
        "id": "usxdIrYnPY93"
      },
      "outputs": [],
      "source": [
        "from keras.datasets import fashion_mnist\n",
        "import tensorflow as tf\n",
        "import numpy as np\n",
        "from tensorflow.keras.models import Sequential\n",
        "from tensorflow.keras.layers import Conv2D, MaxPool2D, Dense, Dropout, Flatten\n",
        "from tensorflow.keras.optimizers import Adam"
      ]
    },
    {
      "cell_type": "code",
      "source": [
        "(x_train, t_train), (x_test, t_test)=fashion_mnist.load_data()"
      ],
      "metadata": {
        "colab": {
          "base_uri": "https://localhost:8080/"
        },
        "id": "c2bsW_XwPft9",
        "outputId": "e9e078db-d072-4d16-e015-ada271e7b690"
      },
      "execution_count": 4,
      "outputs": [
        {
          "output_type": "stream",
          "name": "stdout",
          "text": [
            "Downloading data from https://storage.googleapis.com/tensorflow/tf-keras-datasets/train-labels-idx1-ubyte.gz\n",
            "29515/29515 [==============================] - 0s 0us/step\n",
            "Downloading data from https://storage.googleapis.com/tensorflow/tf-keras-datasets/train-images-idx3-ubyte.gz\n",
            "26421880/26421880 [==============================] - 2s 0us/step\n",
            "Downloading data from https://storage.googleapis.com/tensorflow/tf-keras-datasets/t10k-labels-idx1-ubyte.gz\n",
            "5148/5148 [==============================] - 0s 0us/step\n",
            "Downloading data from https://storage.googleapis.com/tensorflow/tf-keras-datasets/t10k-images-idx3-ubyte.gz\n",
            "4422102/4422102 [==============================] - 0s 0us/step\n"
          ]
        }
      ]
    },
    {
      "cell_type": "code",
      "source": [
        "x_train=x_train.reshape(-1,28,28,1)\n",
        "x_test=x_test.reshape(-1,28,28,1) #데이터의 모양 -1은 원래의 데이터 개수\n",
        "print(x_train.shape, x_test.shape)\n",
        "print(t_train.shape, t_test.shape)"
      ],
      "metadata": {
        "colab": {
          "base_uri": "https://localhost:8080/"
        },
        "id": "TBilOwgBPs8C",
        "outputId": "d53c8cee-9c15-4b6b-ff32-816b572651da"
      },
      "execution_count": 5,
      "outputs": [
        {
          "output_type": "stream",
          "name": "stdout",
          "text": [
            "(60000, 28, 28, 1) (10000, 28, 28, 1)\n",
            "(60000,) (10000,)\n"
          ]
        }
      ]
    },
    {
      "cell_type": "code",
      "source": [
        "x_train=x_train.astype(np.float32)/255.0\n",
        "x_test=x_test.astype(np.float32)/255.0"
      ],
      "metadata": {
        "id": "N2ZozYK6Ptvw"
      },
      "execution_count": 6,
      "outputs": []
    },
    {
      "cell_type": "code",
      "source": [
        "cnn=Sequential()\n",
        "cnn.add(Conv2D(input_shape=(28,28,1), kernel_size=(3,3), filters=32, activation='relu'))\n",
        "cnn.add(Conv2D(kernel_size=(3,3), filters=64, activation='relu'))\n",
        "cnn.add(MaxPool2D(pool_size=(2,2)))\n",
        "cnn.add(Dropout(0.25))\n",
        "\n",
        "cnn.add(Flatten())\n",
        "cnn.add(Dense(128, activation='relu'))\n",
        "cnn.add(Dropout(0.5))\n",
        "cnn.add(Dense(10, activation='softmax'))"
      ],
      "metadata": {
        "id": "1ZB7lSv1PvvR"
      },
      "execution_count": 7,
      "outputs": []
    },
    {
      "cell_type": "code",
      "source": [
        "cnn.compile(loss='sparse_categorical_crossentropy', optimizer=Adam(), metrics=['accuracy'])\n",
        "cnn.summary()"
      ],
      "metadata": {
        "colab": {
          "base_uri": "https://localhost:8080/"
        },
        "id": "Rd4mY_8jPxt2",
        "outputId": "e26a6ece-e6b0-491e-808c-41e5ca28b4d0"
      },
      "execution_count": 8,
      "outputs": [
        {
          "output_type": "stream",
          "name": "stdout",
          "text": [
            "Model: \"sequential\"\n",
            "_________________________________________________________________\n",
            " Layer (type)                Output Shape              Param #   \n",
            "=================================================================\n",
            " conv2d (Conv2D)             (None, 26, 26, 32)        320       \n",
            "                                                                 \n",
            " conv2d_1 (Conv2D)           (None, 24, 24, 64)        18496     \n",
            "                                                                 \n",
            " max_pooling2d (MaxPooling2D  (None, 12, 12, 64)       0         \n",
            " )                                                               \n",
            "                                                                 \n",
            " dropout (Dropout)           (None, 12, 12, 64)        0         \n",
            "                                                                 \n",
            " flatten (Flatten)           (None, 9216)              0         \n",
            "                                                                 \n",
            " dense (Dense)               (None, 128)               1179776   \n",
            "                                                                 \n",
            " dropout_1 (Dropout)         (None, 128)               0         \n",
            "                                                                 \n",
            " dense_1 (Dense)             (None, 10)                1290      \n",
            "                                                                 \n",
            "=================================================================\n",
            "Total params: 1,199,882\n",
            "Trainable params: 1,199,882\n",
            "Non-trainable params: 0\n",
            "_________________________________________________________________\n"
          ]
        }
      ]
    },
    {
      "cell_type": "code",
      "source": [
        "hist=cnn.fit(x_train, t_train, batch_size=128, epochs=30, validation_data=(x_test, t_test))"
      ],
      "metadata": {
        "colab": {
          "base_uri": "https://localhost:8080/"
        },
        "id": "IEL1N6kEP0J-",
        "outputId": "0d4f1086-f8cd-4b77-bd83-912279883249"
      },
      "execution_count": 9,
      "outputs": [
        {
          "output_type": "stream",
          "name": "stdout",
          "text": [
            "Epoch 1/30\n",
            "469/469 [==============================] - 13s 10ms/step - loss: 0.5347 - accuracy: 0.8108 - val_loss: 0.3434 - val_accuracy: 0.8744\n",
            "Epoch 2/30\n",
            "469/469 [==============================] - 4s 9ms/step - loss: 0.3521 - accuracy: 0.8756 - val_loss: 0.2931 - val_accuracy: 0.8918\n",
            "Epoch 3/30\n",
            "469/469 [==============================] - 4s 9ms/step - loss: 0.3010 - accuracy: 0.8923 - val_loss: 0.2773 - val_accuracy: 0.8987\n",
            "Epoch 4/30\n",
            "469/469 [==============================] - 4s 9ms/step - loss: 0.2703 - accuracy: 0.9024 - val_loss: 0.2544 - val_accuracy: 0.9084\n",
            "Epoch 5/30\n",
            "469/469 [==============================] - 4s 9ms/step - loss: 0.2494 - accuracy: 0.9094 - val_loss: 0.2375 - val_accuracy: 0.9112\n",
            "Epoch 6/30\n",
            "469/469 [==============================] - 4s 10ms/step - loss: 0.2282 - accuracy: 0.9164 - val_loss: 0.2287 - val_accuracy: 0.9180\n",
            "Epoch 7/30\n",
            "469/469 [==============================] - 4s 9ms/step - loss: 0.2142 - accuracy: 0.9218 - val_loss: 0.2241 - val_accuracy: 0.9208\n",
            "Epoch 8/30\n",
            "469/469 [==============================] - 4s 9ms/step - loss: 0.1991 - accuracy: 0.9267 - val_loss: 0.2228 - val_accuracy: 0.9213\n",
            "Epoch 9/30\n",
            "469/469 [==============================] - 4s 9ms/step - loss: 0.1853 - accuracy: 0.9316 - val_loss: 0.2184 - val_accuracy: 0.9240\n",
            "Epoch 10/30\n",
            "469/469 [==============================] - 4s 9ms/step - loss: 0.1737 - accuracy: 0.9356 - val_loss: 0.2206 - val_accuracy: 0.9272\n",
            "Epoch 11/30\n",
            "469/469 [==============================] - 4s 9ms/step - loss: 0.1624 - accuracy: 0.9401 - val_loss: 0.2193 - val_accuracy: 0.9246\n",
            "Epoch 12/30\n",
            "469/469 [==============================] - 4s 9ms/step - loss: 0.1557 - accuracy: 0.9423 - val_loss: 0.2182 - val_accuracy: 0.9273\n",
            "Epoch 13/30\n",
            "469/469 [==============================] - 4s 9ms/step - loss: 0.1470 - accuracy: 0.9449 - val_loss: 0.2197 - val_accuracy: 0.9301\n",
            "Epoch 14/30\n",
            "469/469 [==============================] - 4s 9ms/step - loss: 0.1368 - accuracy: 0.9485 - val_loss: 0.2117 - val_accuracy: 0.9307\n",
            "Epoch 15/30\n",
            "469/469 [==============================] - 4s 9ms/step - loss: 0.1295 - accuracy: 0.9501 - val_loss: 0.2308 - val_accuracy: 0.9258\n",
            "Epoch 16/30\n",
            "469/469 [==============================] - 4s 9ms/step - loss: 0.1246 - accuracy: 0.9523 - val_loss: 0.2229 - val_accuracy: 0.9298\n",
            "Epoch 17/30\n",
            "469/469 [==============================] - 4s 9ms/step - loss: 0.1191 - accuracy: 0.9548 - val_loss: 0.2336 - val_accuracy: 0.9285\n",
            "Epoch 18/30\n",
            "469/469 [==============================] - 4s 9ms/step - loss: 0.1122 - accuracy: 0.9577 - val_loss: 0.2280 - val_accuracy: 0.9308\n",
            "Epoch 19/30\n",
            "469/469 [==============================] - 4s 9ms/step - loss: 0.1078 - accuracy: 0.9599 - val_loss: 0.2345 - val_accuracy: 0.9333\n",
            "Epoch 20/30\n",
            "469/469 [==============================] - 4s 9ms/step - loss: 0.1038 - accuracy: 0.9601 - val_loss: 0.2428 - val_accuracy: 0.9275\n",
            "Epoch 21/30\n",
            "469/469 [==============================] - 4s 9ms/step - loss: 0.1019 - accuracy: 0.9618 - val_loss: 0.2304 - val_accuracy: 0.9336\n",
            "Epoch 22/30\n",
            "469/469 [==============================] - 4s 9ms/step - loss: 0.0957 - accuracy: 0.9631 - val_loss: 0.2499 - val_accuracy: 0.9319\n",
            "Epoch 23/30\n",
            "469/469 [==============================] - 4s 9ms/step - loss: 0.0926 - accuracy: 0.9648 - val_loss: 0.2533 - val_accuracy: 0.9323\n",
            "Epoch 24/30\n",
            "469/469 [==============================] - 4s 9ms/step - loss: 0.0884 - accuracy: 0.9654 - val_loss: 0.2664 - val_accuracy: 0.9294\n",
            "Epoch 25/30\n",
            "469/469 [==============================] - 4s 9ms/step - loss: 0.0896 - accuracy: 0.9656 - val_loss: 0.2599 - val_accuracy: 0.9298\n",
            "Epoch 26/30\n",
            "469/469 [==============================] - 4s 9ms/step - loss: 0.0845 - accuracy: 0.9670 - val_loss: 0.2560 - val_accuracy: 0.9294\n",
            "Epoch 27/30\n",
            "469/469 [==============================] - 4s 9ms/step - loss: 0.0830 - accuracy: 0.9687 - val_loss: 0.2520 - val_accuracy: 0.9319\n",
            "Epoch 28/30\n",
            "469/469 [==============================] - 4s 9ms/step - loss: 0.0812 - accuracy: 0.9693 - val_loss: 0.2796 - val_accuracy: 0.9312\n",
            "Epoch 29/30\n",
            "469/469 [==============================] - 4s 9ms/step - loss: 0.0782 - accuracy: 0.9698 - val_loss: 0.2804 - val_accuracy: 0.9320\n",
            "Epoch 30/30\n",
            "469/469 [==============================] - 4s 9ms/step - loss: 0.0763 - accuracy: 0.9704 - val_loss: 0.2769 - val_accuracy: 0.9320\n"
          ]
        }
      ]
    }
  ]
}